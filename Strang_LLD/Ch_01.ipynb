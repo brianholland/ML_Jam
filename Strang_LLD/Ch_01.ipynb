{
 "cells": [
  {
   "cell_type": "code",
   "execution_count": 29,
   "metadata": {},
   "outputs": [
    {
     "data": {
      "text/markdown": [
       "\n",
       "<a class='anchor' id='toc'></a>\n",
       "<hr style='border: 5px solid green;'/>\n",
       "\n",
       "# TOC\n",
       "\n",
       "1. [TOC](#toc)\n",
       "1. [Initialization](#initialization)\n",
       "1. [1.7 probs](#1.7_probs)\n",
       "1. [1.8 notes](#1.8_notes)\n",
       "1. [1.8 probs](#1.8_probs)\n"
      ],
      "text/plain": [
       "<IPython.core.display.Markdown object>"
      ]
     },
     "execution_count": 29,
     "metadata": {},
     "output_type": "execute_result"
    }
   ],
   "source": [
    "from bdutils import nb # notebook tools\n",
    "tc = lambda s: nb.toc(s, ['TOC', 'Initialization',  '1.7 probs', '1.8 notes', '1.8 probs'])\n",
    "tc('TOC')"
   ]
  },
  {
   "cell_type": "code",
   "execution_count": 30,
   "metadata": {},
   "outputs": [
    {
     "data": {
      "text/markdown": [
       "\n",
       "<a class='anchor' id='initialization'></a>\n",
       "<hr style='border: 5px solid green;'/>\n",
       "\n",
       "# Initialization\n",
       "\n",
       "1. [TOC](#toc)\n",
       "1. [Initialization](#initialization)\n",
       "1. [1.7 probs](#1.7_probs)\n",
       "1. [1.8 notes](#1.8_notes)\n",
       "1. [1.8 probs](#1.8_probs)\n"
      ],
      "text/plain": [
       "<IPython.core.display.Markdown object>"
      ]
     },
     "execution_count": 30,
     "metadata": {},
     "output_type": "execute_result"
    }
   ],
   "source": [
    "tc('Initialization')"
   ]
  },
  {
   "cell_type": "code",
   "execution_count": 31,
   "metadata": {},
   "outputs": [],
   "source": [
    "\n",
    "import numpy as np, pandas as pd, matplotlib as mpl, matplotlib.pyplot as plt, itertools\n",
    "%matplotlib inline\n",
    "mpl.rcParams['figure.figsize'] = [2,2]\n",
    "mpl.rcParams['figure.dpi'] = 75\n",
    "mpl.rcParams['axes.grid'] = True\n"
   ]
  },
  {
   "cell_type": "markdown",
   "metadata": {},
   "source": [
    "## LaTeX tools here\n",
    "\n",
    "Energy   $\\newcommand{\\en}[2]{ \\left( #1 \\right) ^\\top #2 #1}$ ```\\en{x}{S}``` =  $\\en{x}{S}$"
   ]
  },
  {
   "cell_type": "code",
   "execution_count": 33,
   "metadata": {},
   "outputs": [
    {
     "data": {
      "text/markdown": [
       "\n",
       "<a class='anchor' id='1.7_probs'></a>\n",
       "<hr style='border: 5px solid green;'/>\n",
       "\n",
       "# 1.7 probs\n",
       "\n",
       "1. [TOC](#toc)\n",
       "1. [Initialization](#initialization)\n",
       "1. [1.7 probs](#1.7_probs)\n",
       "1. [1.8 notes](#1.8_notes)\n",
       "1. [1.8 probs](#1.8_probs)\n"
      ],
      "text/plain": [
       "<IPython.core.display.Markdown object>"
      ]
     },
     "execution_count": 33,
     "metadata": {},
     "output_type": "execute_result"
    }
   ],
   "source": [
    "tc('1.7 probs')"
   ]
  },
  {
   "cell_type": "markdown",
   "metadata": {},
   "source": [
    "### 1.7.2"
   ]
  },
  {
   "cell_type": "markdown",
   "metadata": {},
   "source": [
    "All are small so use the determinant test.\n",
    "\n",
    "Finding a point with negative energy:\n",
    "\n",
    "energy = $ s_{1,1} x_1^2 + 2 s_{1,2} x_1 x_2 + s_{2,2} x_2^2$  \n",
    "$ = 5 x_1^2 + 12 x_1 x_2 + 7 x_2^2$\n",
    "\n",
    "Scaling along a fixed $x$ is quadratic in $t$: \n",
    "$ (x t)^T S (x t) = (x^T S x) t^2$, so it doesn't matter how far out we go from the origin to find some negative energy point  Energy has the same sign along lines through the origin.  We can just focus on the direction then: slope $m = x_2 / x_1$ and fixing $x_1=1$ the energy is  \n",
    "$ s_{1,1} + 2 s_{1,2} m + s_{2,2} m^2$   \n",
    "$= 5 +12 m +7 m^2$, so: concave up, the inflection point is a minimum energy along the line with $x_1=0$ so will have to be negative (since negatives must exist, determinant test failed with a negative):  \n",
    "$m = - 12 / (2*7)$ \n",
    "\n",
    "so any point along the line through (0,0) and (1, -12/14) hs negative energy except for (0,0) (0 energy)"
   ]
  },
  {
   "cell_type": "code",
   "execution_count": 55,
   "metadata": {},
   "outputs": [
    {
     "data": {
      "text/plain": [
       "<matplotlib.lines.Line2D at 0x7fb72d32b340>"
      ]
     },
     "execution_count": 55,
     "metadata": {},
     "output_type": "execute_result"
    },
    {
     "data": {
      "image/png": "[encoded data removed]",
      "text/plain": [
       "<Figure size 150x150 with 1 Axes>"
      ]
     },
     "metadata": {
      "needs_background": "light"
     },
     "output_type": "display_data"
    }
   ],
   "source": [
    "v = pd.DataFrame({'th':np.arange(0, 2*np.pi, 0.01)})\n",
    "v['x1'] = np.cos(v['th'])\n",
    "v['x2'] = np.sin(v['th'])\n",
    "ax = v.plot.line(x='x1', y='x2', legend=False, xlim=(-1.5, 1.5), ylim=(-1.5, 1.5), color='k', grid=False);\n",
    "ax.axhline(0, color='k');\n",
    "ax.axvline(0, color='k');\n",
    "ax.axvline(1, dashes=(2, 2));"
   ]
  },
  {
   "cell_type": "code",
   "execution_count": 39,
   "metadata": {},
   "outputs": [],
   "source": [
    "S1 = np.array([[5,6], [6,7]])"
   ]
  },
  {
   "cell_type": "code",
   "execution_count": 42,
   "metadata": {},
   "outputs": [],
   "source": [
    "def f(t):\n",
    "    \"\"\"t is the slope from x_1 to x_2, also x_2 since x_1 = 1 \"\"\"\n",
    "    x = np.array([[1,t]]).T\n",
    "    return x.T.dot(S1).dot(x)[0,0]"
   ]
  },
  {
   "cell_type": "code",
   "execution_count": 43,
   "metadata": {},
   "outputs": [
    {
     "data": {
      "image/png": "[encoded data removed]",
      "text/plain": [
       "<Figure size 150x150 with 1 Axes>"
      ]
     },
     "metadata": {
      "needs_background": "light"
     },
     "output_type": "display_data"
    }
   ],
   "source": [
    "X = np.arange(-1,-0.5,0.01)\n",
    "plt.plot(X, [f(x) for x in X]);"
   ]
  },
  {
   "cell_type": "markdown",
   "metadata": {},
   "source": [
    "energy = $ x^TS x = 5 + 12 t + 7 t^2$ since $x = (1, t)^T$"
   ]
  },
  {
   "cell_type": "markdown",
   "metadata": {},
   "source": [
    "It's concave up so pick the inflection point for the with that slope for a negative value for sure, since there must be one because $S_1$ failed the determinant test \n",
    "$ t = -b / 2a = -12 / 14$"
   ]
  },
  {
   "cell_type": "code",
   "execution_count": 58,
   "metadata": {},
   "outputs": [
    {
     "data": {
      "text/plain": [
       "-0.14285714285714285"
      ]
     },
     "execution_count": 58,
     "metadata": {},
     "output_type": "execute_result"
    }
   ],
   "source": [
    "f(-12./14) # Minimum along vertical line through (1,0) is at (1, -12/14)"
   ]
  }
 ],
 "metadata": {
  "kernelspec": {
   "display_name": "Python [conda env:py38]",
   "language": "python",
   "name": "conda-env-py38-py"
  },
  "language_info": {
   "codemirror_mode": {
    "name": "ipython",
    "version": 3
   },
   "file_extension": ".py",
   "mimetype": "text/x-python",
   "name": "python",
   "nbconvert_exporter": "python",
   "pygments_lexer": "ipython3",
   "version": "3.8.2"
  }
 },
 "nbformat": 4,
 "nbformat_minor": 4
}
